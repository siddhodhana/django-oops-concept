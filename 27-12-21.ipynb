{
 "cells": [
  {
   "cell_type": "markdown",
   "id": "0f07d571",
   "metadata": {},
   "source": [
    "### List\n",
    "- list represented with []\n",
    "- list is mutable\n"
   ]
  },
  {
   "cell_type": "code",
   "execution_count": 1,
   "id": "34763183",
   "metadata": {},
   "outputs": [
    {
     "data": {
      "text/plain": [
       "['__add__',\n",
       " '__class__',\n",
       " '__contains__',\n",
       " '__delattr__',\n",
       " '__delitem__',\n",
       " '__dir__',\n",
       " '__doc__',\n",
       " '__eq__',\n",
       " '__format__',\n",
       " '__ge__',\n",
       " '__getattribute__',\n",
       " '__getitem__',\n",
       " '__gt__',\n",
       " '__hash__',\n",
       " '__iadd__',\n",
       " '__imul__',\n",
       " '__init__',\n",
       " '__init_subclass__',\n",
       " '__iter__',\n",
       " '__le__',\n",
       " '__len__',\n",
       " '__lt__',\n",
       " '__mul__',\n",
       " '__ne__',\n",
       " '__new__',\n",
       " '__reduce__',\n",
       " '__reduce_ex__',\n",
       " '__repr__',\n",
       " '__reversed__',\n",
       " '__rmul__',\n",
       " '__setattr__',\n",
       " '__setitem__',\n",
       " '__sizeof__',\n",
       " '__str__',\n",
       " '__subclasshook__',\n",
       " 'append',\n",
       " 'clear',\n",
       " 'copy',\n",
       " 'count',\n",
       " 'extend',\n",
       " 'index',\n",
       " 'insert',\n",
       " 'pop',\n",
       " 'remove',\n",
       " 'reverse',\n",
       " 'sort']"
      ]
     },
     "execution_count": 1,
     "metadata": {},
     "output_type": "execute_result"
    }
   ],
   "source": [
    "dir(list)"
   ]
  },
  {
   "cell_type": "code",
   "execution_count": 2,
   "id": "057a4a22",
   "metadata": {},
   "outputs": [
    {
     "name": "stdout",
     "output_type": "stream",
     "text": [
      "[1, 2, 3, 4, 5]\n",
      "['avanthi', 'apssdc', 'cse']\n",
      "[2, 6, 34.56, 'sdc']\n"
     ]
    }
   ],
   "source": [
    "li=[1,2,3,4,5]\n",
    "li1=['avanthi','apssdc','cse']\n",
    "li2=[2,6,34.56,'sdc']\n",
    "print(li)\n",
    "print(li1)\n",
    "print(li2)"
   ]
  },
  {
   "cell_type": "code",
   "execution_count": null,
   "id": "158c1302",
   "metadata": {},
   "outputs": [],
   "source": [
    "'insert',\n",
    " 'pop',\n",
    " 'remove',\n",
    " 'reverse',\n",
    " 'sort'"
   ]
  },
  {
   "cell_type": "code",
   "execution_count": 4,
   "id": "15599a9f",
   "metadata": {},
   "outputs": [
    {
     "data": {
      "text/plain": [
       "[1, 2, 3]"
      ]
     },
     "execution_count": 4,
     "metadata": {},
     "output_type": "execute_result"
    }
   ],
   "source": [
    "li.pop()\n",
    "li"
   ]
  },
  {
   "cell_type": "code",
   "execution_count": 5,
   "id": "275126b1",
   "metadata": {},
   "outputs": [],
   "source": [
    "li.reverse()"
   ]
  },
  {
   "cell_type": "code",
   "execution_count": 6,
   "id": "7d954f07",
   "metadata": {},
   "outputs": [
    {
     "data": {
      "text/plain": [
       "[3, 2, 1]"
      ]
     },
     "execution_count": 6,
     "metadata": {},
     "output_type": "execute_result"
    }
   ],
   "source": [
    "li"
   ]
  },
  {
   "cell_type": "code",
   "execution_count": 7,
   "id": "192417b3",
   "metadata": {},
   "outputs": [],
   "source": [
    "li.sort()"
   ]
  },
  {
   "cell_type": "code",
   "execution_count": 8,
   "id": "d4ff95c4",
   "metadata": {},
   "outputs": [
    {
     "data": {
      "text/plain": [
       "[1, 2, 3]"
      ]
     },
     "execution_count": 8,
     "metadata": {},
     "output_type": "execute_result"
    }
   ],
   "source": [
    "li"
   ]
  },
  {
   "cell_type": "code",
   "execution_count": 17,
   "id": "c6d972a4",
   "metadata": {},
   "outputs": [
    {
     "data": {
      "text/plain": [
       "[1, 2, 3, 'six', 'six', 'six', 'six', 'six', 'six']"
      ]
     },
     "execution_count": 17,
     "metadata": {},
     "output_type": "execute_result"
    }
   ],
   "source": [
    "li.insert(3,'six')\n",
    "li"
   ]
  },
  {
   "cell_type": "code",
   "execution_count": null,
   "id": "3e5c95ce",
   "metadata": {},
   "outputs": [],
   "source": [
    "# program\n",
    "# print even number\n",
    "## odd numbers\n",
    "# even=[2,4,6,8]\n",
    "# odd= [1,3,4,5,7]\n",
    "# result=[2,4,6,8,1,3,5,7]\n"
   ]
  },
  {
   "cell_type": "code",
   "execution_count": 24,
   "id": "8c8d6278",
   "metadata": {},
   "outputs": [
    {
     "name": "stdout",
     "output_type": "stream",
     "text": [
      "[0, 2, 4, 6, 8, 10]\n",
      "[1, 3, 5, 7, 9]\n",
      "[0, 2, 4, 6, 8, 10, 1, 3, 5, 7, 9]\n"
     ]
    }
   ],
   "source": [
    "even=[]\n",
    "odd=[]\n",
    "result=[]\n",
    "for i in range(0,11):\n",
    "    if i%2==0:\n",
    "        even.append(i)\n",
    "    else:\n",
    "        odd.append(i)\n",
    "\n",
    "print(even)\n",
    "print(odd)\n",
    "print(even+odd)"
   ]
  },
  {
   "cell_type": "code",
   "execution_count": 38,
   "id": "8c2d6039",
   "metadata": {},
   "outputs": [
    {
     "name": "stdout",
     "output_type": "stream",
     "text": [
      "Largest number in list 209\n"
     ]
    }
   ],
   "source": [
    "# find largest number in list\n",
    "lh=[209,99,10,5,45,1,9,5,12]\n",
    "high=0\n",
    "for i in lh:\n",
    "    if i>high:\n",
    "        high=i\n",
    "print(\"Largest number in list\",high)"
   ]
  },
  {
   "cell_type": "code",
   "execution_count": 41,
   "id": "9132e859",
   "metadata": {},
   "outputs": [],
   "source": [
    "lh.sort()"
   ]
  },
  {
   "cell_type": "code",
   "execution_count": 42,
   "id": "235773f4",
   "metadata": {},
   "outputs": [
    {
     "data": {
      "text/plain": [
       "[1, 5, 5, 9, 10, 12, 45, 99, 209]"
      ]
     },
     "execution_count": 42,
     "metadata": {},
     "output_type": "execute_result"
    }
   ],
   "source": [
    "lh"
   ]
  },
  {
   "cell_type": "code",
   "execution_count": 43,
   "id": "fa7ee9cc",
   "metadata": {},
   "outputs": [
    {
     "data": {
      "text/plain": [
       "209"
      ]
     },
     "execution_count": 43,
     "metadata": {},
     "output_type": "execute_result"
    }
   ],
   "source": [
    "lh[-1]"
   ]
  },
  {
   "cell_type": "code",
   "execution_count": 44,
   "id": "b659d3b8",
   "metadata": {},
   "outputs": [
    {
     "data": {
      "text/plain": [
       "99"
      ]
     },
     "execution_count": 44,
     "metadata": {},
     "output_type": "execute_result"
    }
   ],
   "source": [
    "lh[-2]"
   ]
  },
  {
   "cell_type": "code",
   "execution_count": 49,
   "id": "f10ac01c",
   "metadata": {},
   "outputs": [
    {
     "data": {
      "text/plain": [
       "[99999, 999]"
      ]
     },
     "execution_count": 49,
     "metadata": {},
     "output_type": "execute_result"
    }
   ],
   "source": [
    "check=[1,2,3,4,99,999,599,99999]\n",
    "import heapq as h\n",
    "h.nlargest(2,check)\n",
    "h.ns"
   ]
  },
  {
   "cell_type": "code",
   "execution_count": 52,
   "id": "f328ec5e",
   "metadata": {},
   "outputs": [
    {
     "data": {
      "text/plain": [
       "[1, 2]"
      ]
     },
     "execution_count": 52,
     "metadata": {},
     "output_type": "execute_result"
    }
   ],
   "source": [
    "h.nsmallest(2,check)"
   ]
  },
  {
   "cell_type": "markdown",
   "id": "7e24067e",
   "metadata": {},
   "source": [
    "### Tuple\n",
    "- tuple is immutable\n",
    "- represented with ()"
   ]
  },
  {
   "cell_type": "code",
   "execution_count": 55,
   "id": "b1d0d775",
   "metadata": {},
   "outputs": [
    {
     "name": "stdout",
     "output_type": "stream",
     "text": [
      "(1, 2, 3, 4, 5, 6, 3, 5)\n"
     ]
    }
   ],
   "source": [
    "t=(1,2,3,4,5,6,3,5)\n",
    "print(t)"
   ]
  },
  {
   "cell_type": "code",
   "execution_count": 54,
   "id": "7dfde49f",
   "metadata": {},
   "outputs": [
    {
     "data": {
      "text/plain": [
       "['__add__',\n",
       " '__class__',\n",
       " '__contains__',\n",
       " '__delattr__',\n",
       " '__dir__',\n",
       " '__doc__',\n",
       " '__eq__',\n",
       " '__format__',\n",
       " '__ge__',\n",
       " '__getattribute__',\n",
       " '__getitem__',\n",
       " '__getnewargs__',\n",
       " '__gt__',\n",
       " '__hash__',\n",
       " '__init__',\n",
       " '__init_subclass__',\n",
       " '__iter__',\n",
       " '__le__',\n",
       " '__len__',\n",
       " '__lt__',\n",
       " '__mul__',\n",
       " '__ne__',\n",
       " '__new__',\n",
       " '__reduce__',\n",
       " '__reduce_ex__',\n",
       " '__repr__',\n",
       " '__rmul__',\n",
       " '__setattr__',\n",
       " '__sizeof__',\n",
       " '__str__',\n",
       " '__subclasshook__',\n",
       " 'count',\n",
       " 'index']"
      ]
     },
     "execution_count": 54,
     "metadata": {},
     "output_type": "execute_result"
    }
   ],
   "source": [
    "dir(tuple)"
   ]
  },
  {
   "cell_type": "code",
   "execution_count": 56,
   "id": "ae1c599a",
   "metadata": {},
   "outputs": [
    {
     "data": {
      "text/plain": [
       "2"
      ]
     },
     "execution_count": 56,
     "metadata": {},
     "output_type": "execute_result"
    }
   ],
   "source": [
    "t.count(3)"
   ]
  },
  {
   "cell_type": "code",
   "execution_count": 57,
   "id": "ce9aaea7",
   "metadata": {},
   "outputs": [
    {
     "data": {
      "text/plain": [
       "(1, 2, 3, 4, 5, 6, 3, 5)"
      ]
     },
     "execution_count": 57,
     "metadata": {},
     "output_type": "execute_result"
    }
   ],
   "source": [
    "t"
   ]
  },
  {
   "cell_type": "code",
   "execution_count": 58,
   "id": "fba3584c",
   "metadata": {},
   "outputs": [
    {
     "data": {
      "text/plain": [
       "1"
      ]
     },
     "execution_count": 58,
     "metadata": {},
     "output_type": "execute_result"
    }
   ],
   "source": [
    "t.index(2)"
   ]
  },
  {
   "cell_type": "code",
   "execution_count": 59,
   "id": "7252d0fa",
   "metadata": {},
   "outputs": [
    {
     "data": {
      "text/plain": [
       "3"
      ]
     },
     "execution_count": 59,
     "metadata": {},
     "output_type": "execute_result"
    }
   ],
   "source": [
    "t.index(4)"
   ]
  },
  {
   "cell_type": "markdown",
   "id": "fc5ad41c",
   "metadata": {},
   "source": [
    "### Set\n",
    "- set is immutable\n",
    "- represented with {},()"
   ]
  },
  {
   "cell_type": "code",
   "execution_count": 61,
   "id": "18d1e25b",
   "metadata": {},
   "outputs": [
    {
     "name": "stdout",
     "output_type": "stream",
     "text": [
      "<class 'set'>\n"
     ]
    }
   ],
   "source": [
    "s={1,2,3,45,78,34,56}\n",
    "print(type(s))"
   ]
  },
  {
   "cell_type": "code",
   "execution_count": 62,
   "id": "73e0dff3",
   "metadata": {},
   "outputs": [
    {
     "data": {
      "text/plain": [
       "['__and__',\n",
       " '__class__',\n",
       " '__contains__',\n",
       " '__delattr__',\n",
       " '__dir__',\n",
       " '__doc__',\n",
       " '__eq__',\n",
       " '__format__',\n",
       " '__ge__',\n",
       " '__getattribute__',\n",
       " '__gt__',\n",
       " '__hash__',\n",
       " '__iand__',\n",
       " '__init__',\n",
       " '__init_subclass__',\n",
       " '__ior__',\n",
       " '__isub__',\n",
       " '__iter__',\n",
       " '__ixor__',\n",
       " '__le__',\n",
       " '__len__',\n",
       " '__lt__',\n",
       " '__ne__',\n",
       " '__new__',\n",
       " '__or__',\n",
       " '__rand__',\n",
       " '__reduce__',\n",
       " '__reduce_ex__',\n",
       " '__repr__',\n",
       " '__ror__',\n",
       " '__rsub__',\n",
       " '__rxor__',\n",
       " '__setattr__',\n",
       " '__sizeof__',\n",
       " '__str__',\n",
       " '__sub__',\n",
       " '__subclasshook__',\n",
       " '__xor__',\n",
       " 'add',\n",
       " 'clear',\n",
       " 'copy',\n",
       " 'difference',\n",
       " 'difference_update',\n",
       " 'discard',\n",
       " 'intersection',\n",
       " 'intersection_update',\n",
       " 'isdisjoint',\n",
       " 'issubset',\n",
       " 'issuperset',\n",
       " 'pop',\n",
       " 'remove',\n",
       " 'symmetric_difference',\n",
       " 'symmetric_difference_update',\n",
       " 'union',\n",
       " 'update']"
      ]
     },
     "execution_count": 62,
     "metadata": {},
     "output_type": "execute_result"
    }
   ],
   "source": [
    "dir(set)"
   ]
  },
  {
   "cell_type": "code",
   "execution_count": 63,
   "id": "ba79cfbc",
   "metadata": {},
   "outputs": [
    {
     "data": {
      "text/plain": [
       "{2, 4, 6, 7, 8, 9, 10, 23}"
      ]
     },
     "execution_count": 63,
     "metadata": {},
     "output_type": "execute_result"
    }
   ],
   "source": [
    "a={2,4,6,8,10,23}\n",
    "b={4,6,7,2,9,10,23}\n",
    "a.union(b)"
   ]
  },
  {
   "cell_type": "code",
   "execution_count": 64,
   "id": "cb636ce8",
   "metadata": {},
   "outputs": [
    {
     "data": {
      "text/plain": [
       "{2, 4, 6, 10, 23}"
      ]
     },
     "execution_count": 64,
     "metadata": {},
     "output_type": "execute_result"
    }
   ],
   "source": [
    "a={2,4,6,8,10,23}\n",
    "b={4,6,7,2,9,10,23}\n",
    "a.intersection(b)"
   ]
  },
  {
   "cell_type": "code",
   "execution_count": 65,
   "id": "af7c080f",
   "metadata": {},
   "outputs": [
    {
     "data": {
      "text/plain": [
       "{8}"
      ]
     },
     "execution_count": 65,
     "metadata": {},
     "output_type": "execute_result"
    }
   ],
   "source": [
    "a={2,4,6,8,10,23}\n",
    "b={4,6,7,2,9,10,23}\n",
    "a.difference(b)"
   ]
  },
  {
   "cell_type": "code",
   "execution_count": 66,
   "id": "b3a3b71d",
   "metadata": {},
   "outputs": [
    {
     "data": {
      "text/plain": [
       "False"
      ]
     },
     "execution_count": 66,
     "metadata": {},
     "output_type": "execute_result"
    }
   ],
   "source": [
    "a={2,4,6,8,10,23}\n",
    "b={4,6,7,2,9,10,23}\n",
    "a.isdisjoint(b)"
   ]
  },
  {
   "cell_type": "code",
   "execution_count": 67,
   "id": "a51c76d3",
   "metadata": {},
   "outputs": [
    {
     "data": {
      "text/plain": [
       "False"
      ]
     },
     "execution_count": 67,
     "metadata": {},
     "output_type": "execute_result"
    }
   ],
   "source": [
    "a={2,4,6,8,10,23}\n",
    "b={4,6,7,2,9,10,23}\n",
    "a.issubset(b)"
   ]
  },
  {
   "cell_type": "code",
   "execution_count": 68,
   "id": "fd7678ec",
   "metadata": {},
   "outputs": [
    {
     "data": {
      "text/plain": [
       "False"
      ]
     },
     "execution_count": 68,
     "metadata": {},
     "output_type": "execute_result"
    }
   ],
   "source": [
    "a={2,4,6,8,10,23}\n",
    "b={4,6,7,2,9,10,23}\n",
    "a.issuperset(b)"
   ]
  },
  {
   "cell_type": "markdown",
   "id": "ce7027ee",
   "metadata": {},
   "source": [
    "### Dictionaries\n",
    "- it is represented with {}\n",
    "- it is unordered collection of item\n",
    "- each item of dictionary has key and value\n",
    "- dictionary is mutable\n",
    "   - we cant change key value but we will change the value present in dictionary\n",
    "   - keys are not allowed duplicate values,values allowed duplicate values\n",
    "- key and value together called as item"
   ]
  },
  {
   "cell_type": "code",
   "execution_count": 69,
   "id": "694a201c",
   "metadata": {},
   "outputs": [
    {
     "data": {
      "text/plain": [
       "dict"
      ]
     },
     "execution_count": 69,
     "metadata": {},
     "output_type": "execute_result"
    }
   ],
   "source": [
    "d={}\n",
    "type(d)"
   ]
  },
  {
   "cell_type": "code",
   "execution_count": 70,
   "id": "b4b40aed",
   "metadata": {},
   "outputs": [
    {
     "name": "stdout",
     "output_type": "stream",
     "text": [
      "{2: 34, 3: 45, 65: 23, 7: 67}\n"
     ]
    }
   ],
   "source": [
    "d={2:34,3:45,65:23,7:67}\n",
    "print(d)"
   ]
  },
  {
   "cell_type": "code",
   "execution_count": 72,
   "id": "ab77a7e3",
   "metadata": {},
   "outputs": [
    {
     "name": "stdout",
     "output_type": "stream",
     "text": [
      "{2: 34, 3: 45, 65: 23, 7: 67}\n"
     ]
    }
   ],
   "source": [
    "d={2:34,3:45,65:23,7:67}\n",
    "print(d)"
   ]
  },
  {
   "cell_type": "code",
   "execution_count": 73,
   "id": "6f0aa53d",
   "metadata": {},
   "outputs": [
    {
     "name": "stdout",
     "output_type": "stream",
     "text": [
      "77\n",
      "65\n",
      "2\n",
      "4\n",
      "[2, 3, 7, 65]\n"
     ]
    }
   ],
   "source": [
    "print(sum(d))\n",
    "print(max(d))\n",
    "print(min(d))\n",
    "print(len(d))\n",
    "print(sorted(d))"
   ]
  },
  {
   "cell_type": "code",
   "execution_count": 74,
   "id": "cd7d784e",
   "metadata": {},
   "outputs": [
    {
     "data": {
      "text/plain": [
       "34"
      ]
     },
     "execution_count": 74,
     "metadata": {},
     "output_type": "execute_result"
    }
   ],
   "source": [
    "d[2]"
   ]
  },
  {
   "cell_type": "code",
   "execution_count": 75,
   "id": "a136ce65",
   "metadata": {},
   "outputs": [
    {
     "data": {
      "text/plain": [
       "45"
      ]
     },
     "execution_count": 75,
     "metadata": {},
     "output_type": "execute_result"
    }
   ],
   "source": [
    "d[3]"
   ]
  },
  {
   "cell_type": "code",
   "execution_count": 2,
   "id": "c6a4f78f",
   "metadata": {},
   "outputs": [
    {
     "data": {
      "text/plain": [
       "{2: 34, 3: 45, 65: 23, 7: 67, 34: {23, 56, 89}}"
      ]
     },
     "execution_count": 2,
     "metadata": {},
     "output_type": "execute_result"
    }
   ],
   "source": [
    "d={2: 34, 3: 45, 65: 23, 7: 67,34:{23,56,89}}\n",
    "d"
   ]
  },
  {
   "cell_type": "code",
   "execution_count": 3,
   "id": "8e55672f",
   "metadata": {},
   "outputs": [
    {
     "data": {
      "text/plain": [
       "{23, 56, 89}"
      ]
     },
     "execution_count": 3,
     "metadata": {},
     "output_type": "execute_result"
    }
   ],
   "source": [
    "d[34]"
   ]
  },
  {
   "cell_type": "code",
   "execution_count": 4,
   "id": "f1dbe5ff",
   "metadata": {},
   "outputs": [
    {
     "data": {
      "text/plain": [
       "['__class__',\n",
       " '__contains__',\n",
       " '__delattr__',\n",
       " '__delitem__',\n",
       " '__dir__',\n",
       " '__doc__',\n",
       " '__eq__',\n",
       " '__format__',\n",
       " '__ge__',\n",
       " '__getattribute__',\n",
       " '__getitem__',\n",
       " '__gt__',\n",
       " '__hash__',\n",
       " '__init__',\n",
       " '__init_subclass__',\n",
       " '__iter__',\n",
       " '__le__',\n",
       " '__len__',\n",
       " '__lt__',\n",
       " '__ne__',\n",
       " '__new__',\n",
       " '__reduce__',\n",
       " '__reduce_ex__',\n",
       " '__repr__',\n",
       " '__reversed__',\n",
       " '__setattr__',\n",
       " '__setitem__',\n",
       " '__sizeof__',\n",
       " '__str__',\n",
       " '__subclasshook__',\n",
       " 'clear',\n",
       " 'copy',\n",
       " 'fromkeys',\n",
       " 'get',\n",
       " 'items',\n",
       " 'keys',\n",
       " 'pop',\n",
       " 'popitem',\n",
       " 'setdefault',\n",
       " 'update',\n",
       " 'values']"
      ]
     },
     "execution_count": 4,
     "metadata": {},
     "output_type": "execute_result"
    }
   ],
   "source": [
    "dir(dict)"
   ]
  },
  {
   "cell_type": "code",
   "execution_count": 5,
   "id": "853a42ca",
   "metadata": {},
   "outputs": [
    {
     "data": {
      "text/plain": [
       "{2: 34, 3: 45, 65: 23, 7: 67, 34: {23, 56, 89}}"
      ]
     },
     "execution_count": 5,
     "metadata": {},
     "output_type": "execute_result"
    }
   ],
   "source": [
    "d"
   ]
  },
  {
   "cell_type": "code",
   "execution_count": 6,
   "id": "47aee9eb",
   "metadata": {},
   "outputs": [
    {
     "data": {
      "text/plain": [
       "{23, 56, 89}"
      ]
     },
     "execution_count": 6,
     "metadata": {},
     "output_type": "execute_result"
    }
   ],
   "source": [
    "d[34]"
   ]
  },
  {
   "cell_type": "code",
   "execution_count": 7,
   "id": "d4ba5466",
   "metadata": {},
   "outputs": [
    {
     "data": {
      "text/plain": [
       "45"
      ]
     },
     "execution_count": 7,
     "metadata": {},
     "output_type": "execute_result"
    }
   ],
   "source": [
    "d.get(3)"
   ]
  },
  {
   "cell_type": "code",
   "execution_count": null,
   "id": "beefc2c2",
   "metadata": {},
   "outputs": [],
   "source": [
    "'clear',\n",
    " 'copy',\n",
    " 'fromkeys',\n",
    " 'get',\n",
    " 'items',\n",
    " 'keys',\n",
    " 'pop',\n",
    " 'popitem',\n",
    " 'setdefault',\n",
    " 'update',\n",
    " 'values']"
   ]
  },
  {
   "cell_type": "code",
   "execution_count": 8,
   "id": "89ac548f",
   "metadata": {},
   "outputs": [
    {
     "data": {
      "text/plain": [
       "dict_keys([2, 3, 65, 7, 34])"
      ]
     },
     "execution_count": 8,
     "metadata": {},
     "output_type": "execute_result"
    }
   ],
   "source": [
    "d.keys()"
   ]
  },
  {
   "cell_type": "code",
   "execution_count": 9,
   "id": "78689a85",
   "metadata": {},
   "outputs": [
    {
     "data": {
      "text/plain": [
       "dict_values([34, 45, 23, 67, {56, 89, 23}])"
      ]
     },
     "execution_count": 9,
     "metadata": {},
     "output_type": "execute_result"
    }
   ],
   "source": [
    "d.values()"
   ]
  },
  {
   "cell_type": "code",
   "execution_count": 10,
   "id": "4b57b0ea",
   "metadata": {},
   "outputs": [
    {
     "data": {
      "text/plain": [
       "dict_items([(2, 34), (3, 45), (65, 23), (7, 67), (34, {56, 89, 23})])"
      ]
     },
     "execution_count": 10,
     "metadata": {},
     "output_type": "execute_result"
    }
   ],
   "source": [
    "d.items()"
   ]
  },
  {
   "cell_type": "code",
   "execution_count": 11,
   "id": "06cd0028",
   "metadata": {},
   "outputs": [],
   "source": [
    "d['python']=\"programming\""
   ]
  },
  {
   "cell_type": "code",
   "execution_count": 12,
   "id": "5e7d157d",
   "metadata": {},
   "outputs": [
    {
     "data": {
      "text/plain": [
       "{2: 34, 3: 45, 65: 23, 7: 67, 34: {23, 56, 89}, 'python': 'programming'}"
      ]
     },
     "execution_count": 12,
     "metadata": {},
     "output_type": "execute_result"
    }
   ],
   "source": [
    "d"
   ]
  },
  {
   "cell_type": "code",
   "execution_count": 14,
   "id": "c5a4823e",
   "metadata": {},
   "outputs": [
    {
     "data": {
      "text/plain": [
       "23"
      ]
     },
     "execution_count": 14,
     "metadata": {},
     "output_type": "execute_result"
    }
   ],
   "source": [
    "d.pop(65)"
   ]
  },
  {
   "cell_type": "code",
   "execution_count": 15,
   "id": "cc9d16cf",
   "metadata": {},
   "outputs": [
    {
     "data": {
      "text/plain": [
       "{2: 34, 3: 45, 7: 67, 34: {23, 56, 89}, 'python': 'programming'}"
      ]
     },
     "execution_count": 15,
     "metadata": {},
     "output_type": "execute_result"
    }
   ],
   "source": [
    "d"
   ]
  },
  {
   "cell_type": "code",
   "execution_count": 16,
   "id": "49db9eb5",
   "metadata": {},
   "outputs": [
    {
     "data": {
      "text/plain": [
       "('python', 'programming')"
      ]
     },
     "execution_count": 16,
     "metadata": {},
     "output_type": "execute_result"
    }
   ],
   "source": [
    "d.popitem()"
   ]
  },
  {
   "cell_type": "code",
   "execution_count": 17,
   "id": "f7172d6c",
   "metadata": {},
   "outputs": [
    {
     "data": {
      "text/plain": [
       "{2: 34, 3: 45, 7: 67, 34: {23, 56, 89}}"
      ]
     },
     "execution_count": 17,
     "metadata": {},
     "output_type": "execute_result"
    }
   ],
   "source": [
    "d"
   ]
  },
  {
   "cell_type": "code",
   "execution_count": 19,
   "id": "64e443ba",
   "metadata": {},
   "outputs": [
    {
     "data": {
      "text/plain": [
       "{'w': None, 'o': None, 'r': None, 'k': None}"
      ]
     },
     "execution_count": 19,
     "metadata": {},
     "output_type": "execute_result"
    }
   ],
   "source": [
    "d.fromkeys(\"work\")"
   ]
  },
  {
   "cell_type": "code",
   "execution_count": 20,
   "id": "3a4a7753",
   "metadata": {},
   "outputs": [
    {
     "data": {
      "text/plain": [
       "{2: 34, 3: 45, 7: 67, 34: {23, 56, 89}}"
      ]
     },
     "execution_count": 20,
     "metadata": {},
     "output_type": "execute_result"
    }
   ],
   "source": [
    "d"
   ]
  },
  {
   "cell_type": "code",
   "execution_count": 21,
   "id": "7aba3fd3",
   "metadata": {},
   "outputs": [],
   "source": [
    "d['w']=56\n",
    "d['o']=7\n",
    "d['r']=78\n",
    "d['k']=67"
   ]
  },
  {
   "cell_type": "code",
   "execution_count": 22,
   "id": "f9780537",
   "metadata": {},
   "outputs": [
    {
     "data": {
      "text/plain": [
       "{2: 34, 3: 45, 7: 67, 34: {23, 56, 89}, 'w': 56, 'o': 7, 'r': 78, 'k': 67}"
      ]
     },
     "execution_count": 22,
     "metadata": {},
     "output_type": "execute_result"
    }
   ],
   "source": [
    "d"
   ]
  },
  {
   "cell_type": "code",
   "execution_count": 23,
   "id": "c4eb4c3a",
   "metadata": {},
   "outputs": [],
   "source": [
    "d.update({'w':\"sdc\"})"
   ]
  },
  {
   "cell_type": "code",
   "execution_count": 24,
   "id": "2d3048be",
   "metadata": {},
   "outputs": [
    {
     "data": {
      "text/plain": [
       "{2: 34, 3: 45, 7: 67, 34: {23, 56, 89}, 'w': 'sdc', 'o': 7, 'r': 78, 'k': 67}"
      ]
     },
     "execution_count": 24,
     "metadata": {},
     "output_type": "execute_result"
    }
   ],
   "source": [
    "d"
   ]
  },
  {
   "cell_type": "code",
   "execution_count": 25,
   "id": "58007347",
   "metadata": {},
   "outputs": [],
   "source": [
    "d.clear()"
   ]
  },
  {
   "cell_type": "code",
   "execution_count": 26,
   "id": "7a802d97",
   "metadata": {},
   "outputs": [
    {
     "data": {
      "text/plain": [
       "{}"
      ]
     },
     "execution_count": 26,
     "metadata": {},
     "output_type": "execute_result"
    }
   ],
   "source": [
    "d"
   ]
  },
  {
   "cell_type": "markdown",
   "id": "ce3b5f16",
   "metadata": {},
   "source": [
    "# Function is collection of statments \n",
    "## we can reusebulity many times'\n",
    "## syntex\n",
    "## def functionname (value1,value2,...n):\n",
    "## functionname(1,2,n)"
   ]
  },
  {
   "cell_type": "code",
   "execution_count": 27,
   "id": "71798883",
   "metadata": {},
   "outputs": [],
   "source": [
    "# def SayHello():\n",
    "# SayHello()\n",
    "\n",
    "def sayHello():\n",
    "    print(\"Good Afternoon\")"
   ]
  },
  {
   "cell_type": "code",
   "execution_count": 28,
   "id": "b4e11622",
   "metadata": {},
   "outputs": [
    {
     "name": "stdout",
     "output_type": "stream",
     "text": [
      "Good Afternoon\n"
     ]
    }
   ],
   "source": [
    "sayHello()"
   ]
  },
  {
   "cell_type": "code",
   "execution_count": 30,
   "id": "b7dfcf1f",
   "metadata": {},
   "outputs": [
    {
     "name": "stdout",
     "output_type": "stream",
     "text": [
      "Good Eving  Students\n"
     ]
    }
   ],
   "source": [
    "def great():\n",
    "    name=\"Students\"\n",
    "    print(\"Good Eving \",name)\n",
    "great()"
   ]
  },
  {
   "cell_type": "code",
   "execution_count": 32,
   "id": "bf15cf26",
   "metadata": {},
   "outputs": [
    {
     "name": "stdout",
     "output_type": "stream",
     "text": [
      "Hello Students 507\n"
     ]
    }
   ],
   "source": [
    "# with argments no return value \n",
    "def great(name,rolno):\n",
    "    print(\"Hello\",name,rolno)\n",
    "great(\"Students\",507)"
   ]
  },
  {
   "cell_type": "code",
   "execution_count": null,
   "id": "19df8569",
   "metadata": {},
   "outputs": [],
   "source": []
  }
 ],
 "metadata": {
  "kernelspec": {
   "display_name": "Python 3",
   "language": "python",
   "name": "python3"
  },
  "language_info": {
   "codemirror_mode": {
    "name": "ipython",
    "version": 3
   },
   "file_extension": ".py",
   "mimetype": "text/x-python",
   "name": "python",
   "nbconvert_exporter": "python",
   "pygments_lexer": "ipython3",
   "version": "3.8.8"
  }
 },
 "nbformat": 4,
 "nbformat_minor": 5
}
