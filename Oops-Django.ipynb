{
 "cells": [
  {
   "cell_type": "markdown",
   "id": "f2dc1b1f",
   "metadata": {},
   "source": [
    "### Python\n",
    "- Python is a multi-paradism programming language means it supports functional programming and object oriented programming and also works with procedure oriented programming\n"
   ]
  },
  {
   "cell_type": "markdown",
   "id": "15a19869",
   "metadata": {},
   "source": [
    "### Procedure oriented programming\n",
    "- procedure oriented means write our programming language using the functions and may using the objects and classes."
   ]
  },
  {
   "cell_type": "markdown",
   "id": "f768fb0b",
   "metadata": {},
   "source": [
    "### Object oriented programming\n",
    "- object:: it is a physical entity representing the memory\n",
    "- attributes:: nothing but variables\n",
    "- behaviour::method\n",
    "- class::class is a logical entity contains logic of the application"
   ]
  },
  {
   "cell_type": "markdown",
   "id": "784d0c53",
   "metadata": {},
   "source": [
    "##### class::Group of member variables and member functions\n",
    "\n"
   ]
  },
  {
   "cell_type": "code",
   "execution_count": 10,
   "id": "1c62fd05",
   "metadata": {},
   "outputs": [
    {
     "ename": "SyntaxError",
     "evalue": "invalid syntax (<ipython-input-10-2bab2e361bfd>, line 2)",
     "output_type": "error",
     "traceback": [
      "\u001b[1;36m  File \u001b[1;32m\"<ipython-input-10-2bab2e361bfd>\"\u001b[1;36m, line \u001b[1;32m2\u001b[0m\n\u001b[1;33m    list of variables\u001b[0m\n\u001b[1;37m         ^\u001b[0m\n\u001b[1;31mSyntaxError\u001b[0m\u001b[1;31m:\u001b[0m invalid syntax\n"
     ]
    }
   ],
   "source": [
    "class class_name:\n",
    "    list of variables\n",
    "    methods"
   ]
  },
  {
   "cell_type": "code",
   "execution_count": 11,
   "id": "33dff435",
   "metadata": {},
   "outputs": [
    {
     "name": "stdout",
     "output_type": "stream",
     "text": [
      "hi hello\n"
     ]
    }
   ],
   "source": [
    "print(\"hi hello\")"
   ]
  },
  {
   "cell_type": "code",
   "execution_count": 12,
   "id": "4c1bd222",
   "metadata": {},
   "outputs": [
    {
     "data": {
      "text/plain": [
       "11"
      ]
     },
     "execution_count": 12,
     "metadata": {},
     "output_type": "execute_result"
    }
   ],
   "source": [
    "5+6"
   ]
  },
  {
   "cell_type": "code",
   "execution_count": 13,
   "id": "c4139da1",
   "metadata": {},
   "outputs": [],
   "source": [
    "class Hi:\n",
    "    a=10\n",
    "    b=20\n",
    "    name=\"apssdc\""
   ]
  },
  {
   "cell_type": "code",
   "execution_count": 14,
   "id": "5aa71c61",
   "metadata": {},
   "outputs": [],
   "source": [
    "class Hi:\n",
    "    a=10\n",
    "    b=20\n",
    "    name=\"apssdc\"\n",
    "    def show():\n",
    "        print(\"i am from show() function\")"
   ]
  },
  {
   "cell_type": "code",
   "execution_count": 15,
   "id": "2c1d40c8",
   "metadata": {},
   "outputs": [
    {
     "data": {
      "text/plain": [
       "'apssdc'"
      ]
     },
     "execution_count": 15,
     "metadata": {},
     "output_type": "execute_result"
    }
   ],
   "source": [
    "Hi.name\n"
   ]
  },
  {
   "cell_type": "code",
   "execution_count": 16,
   "id": "906af20a",
   "metadata": {},
   "outputs": [
    {
     "data": {
      "text/plain": [
       "10"
      ]
     },
     "execution_count": 16,
     "metadata": {},
     "output_type": "execute_result"
    }
   ],
   "source": [
    "Hi.a"
   ]
  },
  {
   "cell_type": "code",
   "execution_count": 17,
   "id": "8b1f8817",
   "metadata": {},
   "outputs": [
    {
     "data": {
      "text/plain": [
       "20"
      ]
     },
     "execution_count": 17,
     "metadata": {},
     "output_type": "execute_result"
    }
   ],
   "source": [
    "Hi.b"
   ]
  },
  {
   "cell_type": "code",
   "execution_count": 18,
   "id": "096c2717",
   "metadata": {},
   "outputs": [
    {
     "name": "stdout",
     "output_type": "stream",
     "text": [
      "i am from show() function\n"
     ]
    }
   ],
   "source": [
    "Hi.show()"
   ]
  },
  {
   "cell_type": "code",
   "execution_count": 19,
   "id": "afd32e53",
   "metadata": {},
   "outputs": [
    {
     "name": "stdout",
     "output_type": "stream",
     "text": [
      "10   20\n"
     ]
    }
   ],
   "source": [
    "print(Hi.a,' ',Hi.b)"
   ]
  },
  {
   "cell_type": "code",
   "execution_count": 20,
   "id": "284a15c9",
   "metadata": {},
   "outputs": [
    {
     "name": "stdout",
     "output_type": "stream",
     "text": [
      "10 20\n"
     ]
    }
   ],
   "source": [
    "print(Hi.a,Hi.b)"
   ]
  },
  {
   "cell_type": "code",
   "execution_count": 21,
   "id": "66f3cc29",
   "metadata": {},
   "outputs": [
    {
     "name": "stdout",
     "output_type": "stream",
     "text": [
      "APSSDC FDP\n",
      "<function Hi.display at 0x00000224BBE87CA0>\n"
     ]
    }
   ],
   "source": [
    "class Hi:\n",
    "    name='APSSDC'\n",
    "    program_name='FDP'\n",
    "    def display():\n",
    "        print('i am display() method')\n",
    "    def show():\n",
    "        print('i am show() method')\n",
    "print(Hi.name,Hi.program_name)\n",
    "print(Hi.display)"
   ]
  },
  {
   "cell_type": "code",
   "execution_count": 22,
   "id": "d83dd1fd",
   "metadata": {},
   "outputs": [
    {
     "name": "stdout",
     "output_type": "stream",
     "text": [
      "i am display() method\n"
     ]
    }
   ],
   "source": [
    "Hi.display()"
   ]
  },
  {
   "cell_type": "code",
   "execution_count": 23,
   "id": "b53cebbc",
   "metadata": {},
   "outputs": [
    {
     "name": "stdout",
     "output_type": "stream",
     "text": [
      "APSSDC FDP\n",
      "i am display() method\n",
      "None\n",
      "i am show() method\n",
      "None\n"
     ]
    }
   ],
   "source": [
    "def display():\n",
    "    print('i am display() method')\n",
    "    return 'i am from return statement'\n",
    "def show():\n",
    "    print('i am show() method')\n",
    "print(Hi.name,Hi.program_name)\n",
    "print(Hi.display())\n",
    "print(Hi.show())\n"
   ]
  },
  {
   "cell_type": "markdown",
   "id": "a14acde9",
   "metadata": {},
   "source": [
    "#### objects::instance of a class\n",
    "in java::class_name obj_name=new class_name()\n",
    "\n",
    "\n",
    "\n",
    "in python::obj_name=class_name"
   ]
  },
  {
   "cell_type": "code",
   "execution_count": 4,
   "id": "816ef2a3",
   "metadata": {},
   "outputs": [
    {
     "name": "stdout",
     "output_type": "stream",
     "text": [
      "APSSDC\n",
      "i am display() method\n",
      "i am from return statement\n"
     ]
    }
   ],
   "source": [
    "class Hi:\n",
    "    name='APSSDC'\n",
    "    program_name='FDP'\n",
    "    def display(self):#when we will mention () it showing error so we will mention self in display,in self place u can mention anything\n",
    "        print('i am display() method')\n",
    "        return 'i am from return statement'\n",
    "    def show():\n",
    "        print('i am show() method')\n",
    "obj=Hi()\n",
    "print(obj.name)\n",
    "print(obj.display())"
   ]
  },
  {
   "cell_type": "markdown",
   "id": "0fd3c112",
   "metadata": {},
   "source": [
    "#### Constructor::without using object we will call methods\n",
    "- in java::class name should be same as methode name\n",
    "- in python:we will use one special method to define constructor\n",
    "- i.e::__init__(self)"
   ]
  },
  {
   "cell_type": "code",
   "execution_count": 6,
   "id": "b9923e32",
   "metadata": {},
   "outputs": [
    {
     "name": "stdout",
     "output_type": "stream",
     "text": [
      "Hi apssdc\n",
      "your rollno is 501\n"
     ]
    }
   ],
   "source": [
    "class Hello:\n",
    "    def __init__(self,name,rollno):\n",
    "        self.name=name\n",
    "        self.rollno=rollno\n",
    "        print('Hi',self.name)\n",
    "    def display(self):\n",
    "        print('your rollno is',self.rollno)\n",
    "ob=Hello('apssdc','501')\n",
    "ob.display()\n",
    "        \n",
    "        "
   ]
  },
  {
   "cell_type": "markdown",
   "id": "50da9966",
   "metadata": {},
   "source": [
    "#### inheritance::inheritance something from present class to child class\n"
   ]
  },
  {
   "cell_type": "code",
   "execution_count": 10,
   "id": "5b9bc436",
   "metadata": {},
   "outputs": [],
   "source": [
    "# class parent():\n",
    "    \n",
    "    # a,b=10,20\n",
    "# class child(parent1,parent2)"
   ]
  },
  {
   "cell_type": "code",
   "execution_count": 11,
   "id": "f1049fda",
   "metadata": {},
   "outputs": [
    {
     "name": "stdout",
     "output_type": "stream",
     "text": [
      "20 10\n",
      "i am from classB\n",
      " i am from classA\n"
     ]
    }
   ],
   "source": [
    "class A:\n",
    "    a,b=10,20\n",
    "    def msg():\n",
    "        print(' i am from classA')\n",
    "class B(A):\n",
    "    c,d=20,30\n",
    "    def msg1():\n",
    "        print('i am from classB')\n",
    "obj=B\n",
    "print(obj.c,obj.a)\n",
    "obj.msg1()\n",
    "obj.msg()"
   ]
  },
  {
   "cell_type": "markdown",
   "id": "7e943dec",
   "metadata": {},
   "source": [
    "#### Modules and Packages\n",
    "package::this is a folder.collection of modules\n",
    "\n",
    "\n",
    "module::it is .py file"
   ]
  },
  {
   "cell_type": "code",
   "execution_count": 12,
   "id": "063c3b9a",
   "metadata": {},
   "outputs": [
    {
     "data": {
      "text/plain": [
       "int"
      ]
     },
     "execution_count": 12,
     "metadata": {},
     "output_type": "execute_result"
    }
   ],
   "source": [
    "a=10\n",
    "type(a)"
   ]
  },
  {
   "cell_type": "code",
   "execution_count": 13,
   "id": "7d338a29",
   "metadata": {},
   "outputs": [
    {
     "data": {
      "text/plain": [
       "['__abs__',\n",
       " '__add__',\n",
       " '__and__',\n",
       " '__bool__',\n",
       " '__ceil__',\n",
       " '__class__',\n",
       " '__delattr__',\n",
       " '__dir__',\n",
       " '__divmod__',\n",
       " '__doc__',\n",
       " '__eq__',\n",
       " '__float__',\n",
       " '__floor__',\n",
       " '__floordiv__',\n",
       " '__format__',\n",
       " '__ge__',\n",
       " '__getattribute__',\n",
       " '__getnewargs__',\n",
       " '__gt__',\n",
       " '__hash__',\n",
       " '__index__',\n",
       " '__init__',\n",
       " '__init_subclass__',\n",
       " '__int__',\n",
       " '__invert__',\n",
       " '__le__',\n",
       " '__lshift__',\n",
       " '__lt__',\n",
       " '__mod__',\n",
       " '__mul__',\n",
       " '__ne__',\n",
       " '__neg__',\n",
       " '__new__',\n",
       " '__or__',\n",
       " '__pos__',\n",
       " '__pow__',\n",
       " '__radd__',\n",
       " '__rand__',\n",
       " '__rdivmod__',\n",
       " '__reduce__',\n",
       " '__reduce_ex__',\n",
       " '__repr__',\n",
       " '__rfloordiv__',\n",
       " '__rlshift__',\n",
       " '__rmod__',\n",
       " '__rmul__',\n",
       " '__ror__',\n",
       " '__round__',\n",
       " '__rpow__',\n",
       " '__rrshift__',\n",
       " '__rshift__',\n",
       " '__rsub__',\n",
       " '__rtruediv__',\n",
       " '__rxor__',\n",
       " '__setattr__',\n",
       " '__sizeof__',\n",
       " '__str__',\n",
       " '__sub__',\n",
       " '__subclasshook__',\n",
       " '__truediv__',\n",
       " '__trunc__',\n",
       " '__xor__',\n",
       " 'as_integer_ratio',\n",
       " 'bit_length',\n",
       " 'conjugate',\n",
       " 'denominator',\n",
       " 'from_bytes',\n",
       " 'imag',\n",
       " 'numerator',\n",
       " 'real',\n",
       " 'to_bytes']"
      ]
     },
     "execution_count": 13,
     "metadata": {},
     "output_type": "execute_result"
    }
   ],
   "source": [
    "dir(int)"
   ]
  },
  {
   "cell_type": "code",
   "execution_count": 14,
   "id": "5b57758e",
   "metadata": {},
   "outputs": [],
   "source": [
    "def iseven(num):\n",
    "    if num%2==0:\n",
    "        return True\n",
    "    return False\n",
    "def isodd(val):\n",
    "    if val%2!=0:\n",
    "        return True\n",
    "    return False\n",
    "def power(bval,pval):\n",
    "    return bval**pval"
   ]
  },
  {
   "cell_type": "code",
   "execution_count": 15,
   "id": "75c19c68",
   "metadata": {},
   "outputs": [
    {
     "data": {
      "text/plain": [
       "True"
      ]
     },
     "execution_count": 15,
     "metadata": {},
     "output_type": "execute_result"
    }
   ],
   "source": [
    "iseven(6)"
   ]
  },
  {
   "cell_type": "code",
   "execution_count": 16,
   "id": "8de51105",
   "metadata": {},
   "outputs": [
    {
     "data": {
      "text/plain": [
       "True"
      ]
     },
     "execution_count": 16,
     "metadata": {},
     "output_type": "execute_result"
    }
   ],
   "source": [
    "isodd(5)"
   ]
  },
  {
   "cell_type": "code",
   "execution_count": 18,
   "id": "19d7a2a1",
   "metadata": {},
   "outputs": [
    {
     "data": {
      "text/plain": [
       "125"
      ]
     },
     "execution_count": 18,
     "metadata": {},
     "output_type": "execute_result"
    }
   ],
   "source": [
    "power(5,3)"
   ]
  },
  {
   "cell_type": "code",
   "execution_count": null,
   "id": "09285256",
   "metadata": {},
   "outputs": [],
   "source": []
  }
 ],
 "metadata": {
  "kernelspec": {
   "display_name": "Python 3",
   "language": "python",
   "name": "python3"
  },
  "language_info": {
   "codemirror_mode": {
    "name": "ipython",
    "version": 3
   },
   "file_extension": ".py",
   "mimetype": "text/x-python",
   "name": "python",
   "nbconvert_exporter": "python",
   "pygments_lexer": "ipython3",
   "version": "3.8.8"
  }
 },
 "nbformat": 4,
 "nbformat_minor": 5
}
